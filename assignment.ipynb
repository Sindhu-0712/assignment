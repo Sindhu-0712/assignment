{
 "cells": [
  {
   "cell_type": "code",
   "execution_count": 1,
   "id": "7684f6a6",
   "metadata": {},
   "outputs": [],
   "source": [
    "import requests\n",
    "from bs4 import BeautifulSoup\n",
    "\n",
    "class Scraper:\n",
    "    def __init__(self,url,item):\n",
    "    # https://www.flipkart.com/search?q=mobiles\n",
    "          self.final_url = url + '/search?q=' + item\n",
    "          self.pull_data(self.final_url)\n",
    "\n",
    "    def pull_data(self, finalurl):\n",
    "        print(finalurl)\n",
    "        self.result = requests.get(finalurl)\n",
    "        # print(result.status_code)\n",
    "        # print(result.text)\n",
    "\n",
    "        self.soup = BeautifulSoup(self.result.content)\n",
    "        # print(self.soup.prettify())\n",
    "        self.tagline = self.soup.find('div',attrs={'class','_4rR01T'})\n",
    "        print(self.tagline)\n",
    "        print(self.tagline.text)\n",
    "        self.price = self.soup.find('div',attrs={'class','gUuXy-'})\n",
    "        print(self.price)\n",
    "        print(self.price.text)\n",
    "        self.ratings = self.soup.find('div',attrs={'class','_3tbKJL'})\n",
    "        print(self.ratings)\n",
    "        print(self.ratings.text)\n",
    "        self.allitems=self.soup.find('div',attrs={'class','_1YokD2 _3Mn1Gg'})\n",
    "        print(self.allitems.text)\n",
    "       \n",
    "        count=0\n",
    "        for item in self.allitems:\n",
    "            count=count+1\n",
    "            print(item.text)\n",
    "            print('  '*20)\n",
    "        else:\n",
    "            print('Total items in page={}'.format(count))\n",
    "            \n"
   ]
  },
  {
   "cell_type": "code",
   "execution_count": 2,
   "id": "67766875",
   "metadata": {},
   "outputs": [
    {
     "name": "stdout",
     "output_type": "stream",
     "text": [
      "https://www.flipkart.com/search?q=mobiles\n",
      "<div class=\"_4rR01T\">realme C21Y (Cross Black, 64 GB)</div>\n",
      "realme C21Y (Cross Black, 64 GB)\n",
      "<div class=\"gUuXy-\"><span class=\"_1lRcqv\" id=\"productRating_LSTMOBG5ZGKQVSRBYGJZUGRLX_MOBG5ZGKQVSRBYGJ_\"><div class=\"_3LWZlK\">4.6<img class=\"_1wB99o\" src=\"data:image/svg+xml;base64,PHN2ZyB4bWxucz0iaHR0cDovL3d3dy53My5vcmcvMjAwMC9zdmciIHdpZHRoPSIxMyIgaGVpZ2h0PSIxMiI+PHBhdGggZmlsbD0iI0ZGRiIgZD0iTTYuNSA5LjQzOWwtMy42NzQgMi4yMy45NC00LjI2LTMuMjEtMi44ODMgNC4yNTQtLjQwNEw2LjUuMTEybDEuNjkgNC4wMSA0LjI1NC40MDQtMy4yMSAyLjg4Mi45NCA0LjI2eiIvPjwvc3ZnPg==\"/></div></span><span class=\"_2_R_DZ\"><span><span>70,308 Ratings </span><span class=\"_13vcmD\">&amp;</span><span> 1,904 Reviews</span></span></span></div>\n",
      "4.670,308 Ratings & 1,904 Reviews\n",
      "<div class=\"_3tbKJL\"><div class=\"_25b18c\"><div class=\"_30jeq3 _1_WHN1\">₹9,999</div><div class=\"_3I9_wc _27UcVY\">₹<!-- -->10,999</div><div class=\"_3Ay6Sb\"><span>9% off</span></div></div></div>\n",
      "₹9,999₹10,9999% off\n",
      "FiltersCATEGORIESMobiles & AccessoriesMobilesPrice............Min₹2000₹4000₹7000₹10000₹13000₹16000₹20000₹25000₹30000₹50000to₹2000₹4000₹7000₹10000₹13000₹16000₹20000₹25000₹30000₹50000₹50000+?GST Invoice AvailableRAM6 GB & Above4 GB3 GB2 GB1 GB512 MB - 1 GBLess than 512 MBBrandrealmePOCOInfinixSAMSUNGMiAPPLE266 MORECustomer Ratings4★ & above3★ & above2★ & above1★ & aboveInternal StorageBattery CapacityOperating SystemNetwork TypeScreen SizeSim TypePrimary CameraSecondary CameraOffersBuy More, Save MoreExchange OfferNo Cost EMISpecial PriceProcessor BrandSpecialityResolution TypeTypeOperating System Version NameAvailabilityDiscount10% or more20% or more30% or more40% or more10% and belowClock SpeedFeaturesNumber of CoresBudgetNeed help?Help me decide\n",
      "FiltersCATEGORIESMobiles & AccessoriesMobilesPrice............Min₹2000₹4000₹7000₹10000₹13000₹16000₹20000₹25000₹30000₹50000to₹2000₹4000₹7000₹10000₹13000₹16000₹20000₹25000₹30000₹50000₹50000+?GST Invoice AvailableRAM6 GB & Above4 GB3 GB2 GB1 GB512 MB - 1 GBLess than 512 MBBrandrealmePOCOInfinixSAMSUNGMiAPPLE266 MORECustomer Ratings4★ & above3★ & above2★ & above1★ & aboveInternal StorageBattery CapacityOperating SystemNetwork TypeScreen SizeSim TypePrimary CameraSecondary CameraOffersBuy More, Save MoreExchange OfferNo Cost EMISpecial PriceProcessor BrandSpecialityResolution TypeTypeOperating System Version NameAvailabilityDiscount10% or more20% or more30% or more40% or more10% and belowClock SpeedFeaturesNumber of CoresBudgetNeed help?Help me decide\n",
      "                                        \n",
      "Total items in page=1\n"
     ]
    },
    {
     "data": {
      "text/plain": [
       "<__main__.Scraper at 0x2ca71825c40>"
      ]
     },
     "execution_count": 2,
     "metadata": {},
     "output_type": "execute_result"
    }
   ],
   "source": [
    "Scraper('https://www.flipkart.com','mobiles')"
   ]
  },
  {
   "cell_type": "code",
   "execution_count": 3,
   "id": "b01cfb15",
   "metadata": {},
   "outputs": [],
   "source": [
    "import requests\n",
    "from bs4 import BeautifulSoup\n",
    "\n",
    "class Scraper:\n",
    "    def __init__(self,url,item):\n",
    "    #https://www.flipkart.com/search?q=t+shirts\n",
    "          self.final_url = url + '/search?q=' + item\n",
    "          self.pull_data(self.final_url)\n",
    "\n",
    "    def pull_data(self, finalurl):\n",
    "        print(finalurl)\n",
    "        self.result = requests.get(finalurl)\n",
    "        # print(result.status_code)\n",
    "        # print(result.text)\n",
    "\n",
    "        self.soup = BeautifulSoup(self.result.content)\n",
    "        # print(self.soup.prettify())\n",
    "        self.tagline = self.soup.find('div',attrs={'class','G6XhRU'})\n",
    "        # print(self.tagline)\n",
    "        print(self.tagline.text)\n",
    "        self.price = self.soup.find('div',attrs={'class','_30jeq3 _16Jk6d'})\n",
    "        # print(self.price)\n",
    "        print(self.price.text)\n",
    "        self.ratings = self.soup.find('div',attrs={'class','_2QKOHZ _33R3aa'})\n",
    "        # print(self.ratings)\n",
    "        print(self.ratings.text)\n",
    "        self.allitems=self.soup.find('div',attrs={'class','_2whKao'})\n",
    "        print(self.allitems.text)\n",
    "       \n",
    "        count=0\n",
    "        for item in self.allitems:\n",
    "            count=count+1\n",
    "            print(item.text)\n",
    "            print('  '*20)\n",
    "        else:\n",
    "            print('Total items in page={}'.format(count))\n",
    "            \n",
    "\n",
    "        "
   ]
  },
  {
   "cell_type": "code",
   "execution_count": 4,
   "id": "78648f2d",
   "metadata": {},
   "outputs": [
    {
     "name": "stdout",
     "output_type": "stream",
     "text": [
      "https://www.flipkart.com/search?q=t+shirts\n"
     ]
    },
    {
     "ename": "AttributeError",
     "evalue": "'NoneType' object has no attribute 'text'",
     "output_type": "error",
     "traceback": [
      "\u001b[1;31m---------------------------------------------------------------------------\u001b[0m",
      "\u001b[1;31mAttributeError\u001b[0m                            Traceback (most recent call last)",
      "\u001b[1;32m<ipython-input-4-a7578c2af4cb>\u001b[0m in \u001b[0;36m<module>\u001b[1;34m\u001b[0m\n\u001b[1;32m----> 1\u001b[1;33m \u001b[0mScraper\u001b[0m\u001b[1;33m(\u001b[0m\u001b[1;34m'https://www.flipkart.com'\u001b[0m\u001b[1;33m,\u001b[0m\u001b[1;34m't+shirts'\u001b[0m\u001b[1;33m)\u001b[0m\u001b[1;33m\u001b[0m\u001b[1;33m\u001b[0m\u001b[0m\n\u001b[0m",
      "\u001b[1;32m<ipython-input-3-4e7e364628bd>\u001b[0m in \u001b[0;36m__init__\u001b[1;34m(self, url, item)\u001b[0m\n\u001b[0;32m      6\u001b[0m     \u001b[1;31m#https://www.flipkart.com/search?q=t+shirts\u001b[0m\u001b[1;33m\u001b[0m\u001b[1;33m\u001b[0m\u001b[1;33m\u001b[0m\u001b[0m\n\u001b[0;32m      7\u001b[0m           \u001b[0mself\u001b[0m\u001b[1;33m.\u001b[0m\u001b[0mfinal_url\u001b[0m \u001b[1;33m=\u001b[0m \u001b[0murl\u001b[0m \u001b[1;33m+\u001b[0m \u001b[1;34m'/search?q='\u001b[0m \u001b[1;33m+\u001b[0m \u001b[0mitem\u001b[0m\u001b[1;33m\u001b[0m\u001b[1;33m\u001b[0m\u001b[0m\n\u001b[1;32m----> 8\u001b[1;33m           \u001b[0mself\u001b[0m\u001b[1;33m.\u001b[0m\u001b[0mpull_data\u001b[0m\u001b[1;33m(\u001b[0m\u001b[0mself\u001b[0m\u001b[1;33m.\u001b[0m\u001b[0mfinal_url\u001b[0m\u001b[1;33m)\u001b[0m\u001b[1;33m\u001b[0m\u001b[1;33m\u001b[0m\u001b[0m\n\u001b[0m\u001b[0;32m      9\u001b[0m \u001b[1;33m\u001b[0m\u001b[0m\n\u001b[0;32m     10\u001b[0m     \u001b[1;32mdef\u001b[0m \u001b[0mpull_data\u001b[0m\u001b[1;33m(\u001b[0m\u001b[0mself\u001b[0m\u001b[1;33m,\u001b[0m \u001b[0mfinalurl\u001b[0m\u001b[1;33m)\u001b[0m\u001b[1;33m:\u001b[0m\u001b[1;33m\u001b[0m\u001b[1;33m\u001b[0m\u001b[0m\n",
      "\u001b[1;32m<ipython-input-3-4e7e364628bd>\u001b[0m in \u001b[0;36mpull_data\u001b[1;34m(self, finalurl)\u001b[0m\n\u001b[0;32m     18\u001b[0m         \u001b[0mself\u001b[0m\u001b[1;33m.\u001b[0m\u001b[0mtagline\u001b[0m \u001b[1;33m=\u001b[0m \u001b[0mself\u001b[0m\u001b[1;33m.\u001b[0m\u001b[0msoup\u001b[0m\u001b[1;33m.\u001b[0m\u001b[0mfind\u001b[0m\u001b[1;33m(\u001b[0m\u001b[1;34m'div'\u001b[0m\u001b[1;33m,\u001b[0m\u001b[0mattrs\u001b[0m\u001b[1;33m=\u001b[0m\u001b[1;33m{\u001b[0m\u001b[1;34m'class'\u001b[0m\u001b[1;33m,\u001b[0m\u001b[1;34m'G6XhRU'\u001b[0m\u001b[1;33m}\u001b[0m\u001b[1;33m)\u001b[0m\u001b[1;33m\u001b[0m\u001b[1;33m\u001b[0m\u001b[0m\n\u001b[0;32m     19\u001b[0m         \u001b[1;31m# print(self.tagline)\u001b[0m\u001b[1;33m\u001b[0m\u001b[1;33m\u001b[0m\u001b[1;33m\u001b[0m\u001b[0m\n\u001b[1;32m---> 20\u001b[1;33m         \u001b[0mprint\u001b[0m\u001b[1;33m(\u001b[0m\u001b[0mself\u001b[0m\u001b[1;33m.\u001b[0m\u001b[0mtagline\u001b[0m\u001b[1;33m.\u001b[0m\u001b[0mtext\u001b[0m\u001b[1;33m)\u001b[0m\u001b[1;33m\u001b[0m\u001b[1;33m\u001b[0m\u001b[0m\n\u001b[0m\u001b[0;32m     21\u001b[0m         \u001b[0mself\u001b[0m\u001b[1;33m.\u001b[0m\u001b[0mprice\u001b[0m \u001b[1;33m=\u001b[0m \u001b[0mself\u001b[0m\u001b[1;33m.\u001b[0m\u001b[0msoup\u001b[0m\u001b[1;33m.\u001b[0m\u001b[0mfind\u001b[0m\u001b[1;33m(\u001b[0m\u001b[1;34m'div'\u001b[0m\u001b[1;33m,\u001b[0m\u001b[0mattrs\u001b[0m\u001b[1;33m=\u001b[0m\u001b[1;33m{\u001b[0m\u001b[1;34m'class'\u001b[0m\u001b[1;33m,\u001b[0m\u001b[1;34m'_30jeq3 _16Jk6d'\u001b[0m\u001b[1;33m}\u001b[0m\u001b[1;33m)\u001b[0m\u001b[1;33m\u001b[0m\u001b[1;33m\u001b[0m\u001b[0m\n\u001b[0;32m     22\u001b[0m         \u001b[1;31m# print(self.price)\u001b[0m\u001b[1;33m\u001b[0m\u001b[1;33m\u001b[0m\u001b[1;33m\u001b[0m\u001b[0m\n",
      "\u001b[1;31mAttributeError\u001b[0m: 'NoneType' object has no attribute 'text'"
     ]
    }
   ],
   "source": [
    "Scraper('https://www.flipkart.com','t+shirts')"
   ]
  },
  {
   "cell_type": "code",
   "execution_count": null,
   "id": "833a99f6",
   "metadata": {},
   "outputs": [],
   "source": []
  }
 ],
 "metadata": {
  "kernelspec": {
   "display_name": "Python 3",
   "language": "python",
   "name": "python3"
  },
  "language_info": {
   "codemirror_mode": {
    "name": "ipython",
    "version": 3
   },
   "file_extension": ".py",
   "mimetype": "text/x-python",
   "name": "python",
   "nbconvert_exporter": "python",
   "pygments_lexer": "ipython3",
   "version": "3.8.8"
  }
 },
 "nbformat": 4,
 "nbformat_minor": 5
}
